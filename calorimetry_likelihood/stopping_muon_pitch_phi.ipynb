{
 "cells": [
  {
   "cell_type": "markdown",
   "metadata": {},
   "source": [
    "# Calorimetry likelihood stopping muons with arrays"
   ]
  },
  {
   "cell_type": "code",
   "execution_count": 1,
   "metadata": {},
   "outputs": [],
   "source": [
    "%load_ext autoreload\n",
    "%autoreload 2\n",
    "\n",
    "import math\n",
    "from itertools import product\n",
    "import uproot\n",
    "import awkward\n",
    "import numpy as np\n",
    "import matplotlib.pyplot as plt\n",
    "from matplotlib.colors import LogNorm\n",
    "from scipy.stats import binned_statistic\n",
    "\n",
    "import matplotlib\n",
    "matplotlib.rcParams.update({'font.size': 12})\n",
    "from calo_likelihood import caloLikelihood\n",
    "from general_functions import *\n",
    "from loaders import *\n",
    "from plotter import *\n",
    "from categorisation import *\n",
    "from initializers import *"
   ]
  },
  {
   "cell_type": "code",
   "execution_count": 2,
   "metadata": {},
   "outputs": [],
   "source": [
    "today = 'calorimetry'\n",
    "!mkdir -p ~/Dropbox/MicroBooNE/_fig/$today/muons/pitch_phi/\n",
    "!mkdir -p ~/Dropbox/MicroBooNE/_fig/$today/muons/pitch_phi/plane0/\n",
    "!mkdir -p ~/Dropbox/MicroBooNE/_fig/$today/muons/pitch_phi/plane1/\n",
    "!mkdir -p ~/Dropbox/MicroBooNE/_fig/$today/muons/pitch_phi/plane2/\n",
    "save_folder = '/home/nic/Dropbox/MicroBooNE/_fig/' + today + '/muons/pitch_phi/'"
   ]
  },
  {
   "cell_type": "code",
   "execution_count": 3,
   "metadata": {},
   "outputs": [],
   "source": [
    "branches = [\n",
    "    'run',\n",
    "    'sub',\n",
    "    'evt',\n",
    "    \n",
    "    'backtracked_pdg',\n",
    "    'backtracked_e',\n",
    "    'backtracked_purity',\n",
    "    'backtracked_completeness',\n",
    "    'backtracked_overlay_purity',\n",
    "    'backtracked_end_process',\n",
    "    \n",
    "    'backtracked_start_x',\n",
    "    'backtracked_start_y',\n",
    "    'backtracked_start_z',\n",
    "    \n",
    "    'backtracked_sce_start_x',\n",
    "    'backtracked_sce_start_y',\n",
    "    'backtracked_sce_start_z',\n",
    "    \n",
    "    'nplanehits_U',\n",
    "    'nplanehits_V',\n",
    "    'nplanehits_Y',\n",
    "    'trk_score',\n",
    "\n",
    "    'generation',\n",
    "    'trk_daughters',\n",
    "    'shr_daughters',\n",
    "\n",
    "    'trk_sce_start_x',\n",
    "    'trk_sce_start_y',\n",
    "    'trk_sce_start_z',\n",
    "\n",
    "    'trk_sce_end_x',\n",
    "    'trk_sce_end_y',\n",
    "    'trk_sce_end_z',\n",
    "    \n",
    "    'trk_theta',\n",
    "    'trk_phi',\n",
    "\n",
    "    'trk_dir_x',\n",
    "    'trk_dir_y',\n",
    "    'trk_dir_z',\n",
    "    \n",
    "#     'trk_pid_chipr_y',\n",
    "#     'trk_pid_chipr_u',\n",
    "#     'trk_pid_chipr_v',\n",
    "#     'trk_pid_chimu_y',\n",
    "#     'trk_bragg_p_y',\n",
    "#     'trk_bragg_mu_y',\n",
    "\n",
    "    'trk_len',\n",
    "    'trk_distance',\n",
    "    'longest',\n",
    "    \n",
    "    'trk_mcs_muon_mom',\n",
    "    'trk_range_muon_mom',\n",
    "    \n",
    "    'is_hit_montecarlo_u',\n",
    "    'is_hit_montecarlo_v',\n",
    "    'is_hit_montecarlo_y',\n",
    "    \n",
    "    'dqdx_u',\n",
    "    'dqdx_v',\n",
    "    'dqdx_y',\n",
    "\n",
    "#     'dedx_u',\n",
    "#     'dedx_v',\n",
    "#     'dedx_y',\n",
    "\n",
    "    'rr_u',\n",
    "    'rr_v',\n",
    "    'rr_y',\n",
    "\n",
    "    'pitch_u',\n",
    "    'pitch_v',\n",
    "    'pitch_y',\n",
    "    \n",
    "    'dir_x_u',\n",
    "    'dir_x_v',\n",
    "    'dir_x_y',\n",
    "    \n",
    "    'dir_y_u',\n",
    "    'dir_y_v',\n",
    "    'dir_y_y',\n",
    "    \n",
    "    'dir_z_u',\n",
    "    'dir_z_v',\n",
    "    'dir_z_y',\n",
    "]"
   ]
  },
  {
   "cell_type": "code",
   "execution_count": 4,
   "metadata": {},
   "outputs": [],
   "source": [
    "directory = '/home/nic/Desktop/MicroBooNE/calorimetry_likelihood/v07/'\n",
    "pot_beam_on = 4.054e+19\n",
    "n_triggers_on = 8977290.0\n",
    "n_triggers_off = 33240727.0\n",
    "\n",
    "file_lists = {}\n",
    "\n",
    "file_lists['beam_on'] = directory+'beam_on/out_muon_skimmed.root'\n",
    "file_lists['beam_off'] = directory+'beam_off/out_muon_skimmed.root'\n",
    "file_lists['bnb_nu'] = directory+'bnb_nu/out_muon_skimmed.root'\n",
    "file_lists['bnb_dirt'] = directory+'bnb_dirt/out_muon_skimmed.root'\n",
    "\n",
    "folder = \"nuselection\"\n",
    "events_tree_name = \"CalorimetryAnalyzer\"\n",
    "pot_tree_name = \"SubRun\""
   ]
  },
  {
   "cell_type": "code",
   "execution_count": 5,
   "metadata": {},
   "outputs": [
    {
     "name": "stdout",
     "output_type": "stream",
     "text": [
      "start loading beam_on\n",
      "start loading beam_off\n",
      "start loading bnb_nu\n",
      "start loading bnb_dirt\n",
      "Done!\n"
     ]
    }
   ],
   "source": [
    "arrays, pot = load_data_calo(file_lists, \n",
    "                        branches, \n",
    "                        folder, \n",
    "                        events_tree_name, \n",
    "                        pot_tree_name, \n",
    "                        labels=['beam_on', 'beam_off', 'bnb_nu', 'bnb_dirt'],\n",
    "                        lazy=False)"
   ]
  },
  {
   "cell_type": "code",
   "execution_count": 6,
   "metadata": {},
   "outputs": [],
   "source": [
    "scale_factors = compute_scale_factors(pot, pot_beam_on, n_triggers_on, n_triggers_off)"
   ]
  },
  {
   "cell_type": "code",
   "execution_count": 7,
   "metadata": {},
   "outputs": [
    {
     "data": {
      "text/plain": [
       "{'beam_on': 1,\n",
       " 'beam_off': 0.27006900300345416,\n",
       " 'bnb_nu': 0.03504258914669898,\n",
       " 'bnb_dirt': 0.12607623142910898}"
      ]
     },
     "execution_count": 7,
     "metadata": {},
     "output_type": "execute_result"
    }
   ],
   "source": [
    "scale_factors"
   ]
  },
  {
   "cell_type": "code",
   "execution_count": 8,
   "metadata": {},
   "outputs": [
    {
     "name": "stdout",
     "output_type": "stream",
     "text": [
      "beam_on\n",
      "beam_off\n",
      "bnb_nu\n",
      "bnb_dirt\n"
     ]
    }
   ],
   "source": [
    "for name, array in arrays.items():\n",
    "    print(name)\n",
    "    initialisation_for_caloriemtry_data_mc(array)"
   ]
  },
  {
   "cell_type": "markdown",
   "metadata": {},
   "source": [
    "# Plots"
   ]
  },
  {
   "cell_type": "code",
   "execution_count": 9,
   "metadata": {},
   "outputs": [],
   "source": [
    "my_plotter = plotter(arrays, scale_factors, pot_beam_on, branch_weights_name='weightSplineTimesTune')\n",
    "title_base = 'Longest track, residual range > 30 cm\\ntrk-score>0.5, start-end fiducial\\ntrk-vtx distance < 5 cm, muon-momentum-consistency < 0.5'"
   ]
  },
  {
   "cell_type": "code",
   "execution_count": 10,
   "metadata": {},
   "outputs": [],
   "source": [
    "parameters = ['pitch', 'abs_theta_yx']\n",
    "parameters_legend_names = ['pitch', r'$\\phi$']\n",
    "parameters_bin_edges = [[0.3, 0.4, 0.7, 1., 1.5, 30], np.linspace(0, np.pi/2, 7)]\n",
    "\n",
    "for plane_num, plane in zip([0, 1, 2], ['_u', '_v', '_y']):\n",
    "    for par0_edges in zip(parameters_bin_edges[0][:-1], parameters_bin_edges[0][1:]):\n",
    "        for par1_edges in zip(parameters_bin_edges[1][:-1], parameters_bin_edges[1][1:]):\n",
    "            this_parameters = [par+plane for par in parameters]\n",
    "            def sel_function(array):\n",
    "                return (array['first_last_hit_mask'+plane]) &\\\n",
    "                       (array['rr'+plane] > 30) &\\\n",
    "                        ((array[this_parameters[0]]) > par0_edges[0]) &\\\n",
    "                        ((array[this_parameters[0]]) <= par0_edges[1]) &\\\n",
    "                        ((array[this_parameters[1]]) > par1_edges[0]) &\\\n",
    "                        ((array[this_parameters[1]]) <= par1_edges[1])\n",
    "            label = 'plane {}, {:.2g} < {} < {:.2g} & {:.2g} < {} < {:.2g}'.format(plane_num, par0_edges[0], \n",
    "                                                         parameters_legend_names[0],\n",
    "                                                         par0_edges[1],\n",
    "                                                         par1_edges[0], \n",
    "                                                         parameters_legend_names[1],\n",
    "                                                         par1_edges[1],)\n",
    "            save_label = '{:.2f}_{}_{:.2f}_{:.2f}_{}_{:.2f}'.format( \n",
    "                                                         par0_edges[0], \n",
    "                                                         parameters_legend_names[0],\n",
    "                                                         par0_edges[1],\n",
    "                                                         par1_edges[0], \n",
    "                                                         parameters_legend_names[1],\n",
    "                                                         par1_edges[1]).replace('.', '').replace('$', '').replace('\\\\', '')\n",
    "            title = title_base + '\\n' + label\n",
    "            out = my_plotter.plot2d(dataset_name='beam_subtracted', \n",
    "                                    variables=this_parameters, \n",
    "                                    binning=[15, par0_edges[0], par0_edges[1], 15, par1_edges[0], par1_edges[1]], \n",
    "                                    additional_selection=sel_function, \n",
    "                                    title=\"Data Beam ON - Beam OFF, residual range > 30 cm\\n\" + title,\n",
    "                                    labels=[\"Hit pitch\", r\"Hit $\\phi$\"], \n",
    "                                    density=True,\n",
    "                                    log=True)\n",
    "            plt.savefig(save_folder + 'plane{}/beam_'.format(plane_num) + save_label+'_beam.png', dpi=300)\n",
    "            plt.savefig(save_folder + 'plane{}/beam_'.format(plane_num) + save_label+'_beam.pdf')\n",
    "            plt.close()\n",
    "            \n",
    "            out2 = my_plotter.plot2d(dataset_name='bnb_nu', \n",
    "                                    variables=this_parameters, \n",
    "                                    binning=[15, par0_edges[0], par0_edges[1], 15, par1_edges[0], par1_edges[1]], \n",
    "                                    additional_selection=sel_function, \n",
    "                                    title=\"Simulation, residual range > 30 cm\\n\" + title,\n",
    "                                    labels=[\"Hit pitch\", r\"Hit $\\phi$\"],  \n",
    "                                    density=True,\n",
    "                                    log=True)\n",
    "            plt.savefig(save_folder + 'plane{}/sim_'.format(plane_num) + save_label+'_sim.png', dpi=300)\n",
    "            plt.savefig(save_folder + 'plane{}/sim_'.format(plane_num) + save_label+'_sim.pdf')\n",
    "            plt.close()"
   ]
  },
  {
   "cell_type": "code",
   "execution_count": null,
   "metadata": {},
   "outputs": [],
   "source": []
  }
 ],
 "metadata": {
  "kernelspec": {
   "display_name": "Python 3",
   "language": "python",
   "name": "python3"
  },
  "language_info": {
   "codemirror_mode": {
    "name": "ipython",
    "version": 3
   },
   "file_extension": ".py",
   "mimetype": "text/x-python",
   "name": "python",
   "nbconvert_exporter": "python",
   "pygments_lexer": "ipython3",
   "version": "3.7.6"
  }
 },
 "nbformat": 4,
 "nbformat_minor": 2
}
