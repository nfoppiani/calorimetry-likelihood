{
 "cells": [
  {
   "cell_type": "markdown",
   "metadata": {},
   "source": [
    "# Performance on simulated electrons and photons"
   ]
  },
  {
   "cell_type": "code",
   "execution_count": 1,
   "metadata": {},
   "outputs": [],
   "source": [
    "%load_ext autoreload\n",
    "%autoreload 2\n",
    "\n",
    "import math\n",
    "from itertools import product\n",
    "import uproot\n",
    "import awkward\n",
    "import numpy as np\n",
    "import matplotlib.pyplot as plt\n",
    "from matplotlib.colors import LogNorm\n",
    "from scipy.stats import binned_statistic\n",
    "\n",
    "import matplotlib\n",
    "matplotlib.rcParams.update({'font.size': 12})\n",
    "\n",
    "from calo_likelihood import caloLikelihood\n",
    "from general_functions import *\n",
    "from loaders import *\n",
    "from initializers import initialisation_for_calorimetry_shower"
   ]
  },
  {
   "cell_type": "code",
   "execution_count": 2,
   "metadata": {},
   "outputs": [],
   "source": [
    "today = '20_03_11'"
   ]
  },
  {
   "cell_type": "code",
   "execution_count": 3,
   "metadata": {},
   "outputs": [],
   "source": [
    "!mkdir -p ~/Dropbox/MicroBooNE/_fig/$today/shower_calo/base_plots/\n",
    "!mkdir -p ~/Dropbox/MicroBooNE/_fig/$today/shower_calo/pdfs/plane0/\n",
    "!mkdir -p ~/Dropbox/MicroBooNE/_fig/$today/shower_calo/pdfs/plane1/\n",
    "!mkdir -p ~/Dropbox/MicroBooNE/_fig/$today/shower_calo/pdfs/plane2/\n",
    "!mkdir -p ~/Dropbox/MicroBooNE/_fig/$today/shower_calo/performance_plots/\n",
    "save_folder = '/home/nic/Dropbox/MicroBooNE/_fig/' + today + '/shower_calo/'\n",
    "save_folder_base = save_folder + 'base_plots/'\n",
    "save_folder_pdfs = save_folder + 'pdfs/'\n",
    "save_folder_performance = save_folder + 'performance_plots/'"
   ]
  },
  {
   "cell_type": "markdown",
   "metadata": {},
   "source": [
    "## Loading and initializing"
   ]
  },
  {
   "cell_type": "code",
   "execution_count": 4,
   "metadata": {},
   "outputs": [],
   "source": [
    "branches = [\n",
    "    'run',\n",
    "    'sub',\n",
    "    'evt',\n",
    "    \n",
    "    'generation',\n",
    "    'backtracked_pdg',\n",
    "    'backtracked_e',\n",
    "    'backtracked_purity',\n",
    "    'backtracked_completeness',\n",
    "    'backtracked_overlay_purity',\n",
    "    'backtracked_start_x',\n",
    "    'backtracked_start_y',\n",
    "    'backtracked_start_z',\n",
    "    'backtracked_start_t',\n",
    "    'backtracked_sce_start_x',\n",
    "    'backtracked_sce_start_y',\n",
    "    'backtracked_sce_start_z',\n",
    "    \n",
    "    'nplanehits_U',\n",
    "    'nplanehits_V',\n",
    "    'nplanehits_Y',\n",
    "    'trk_score',\n",
    "\n",
    "    'trk_start_x',\n",
    "    'trk_start_y',\n",
    "    'trk_start_z',\n",
    "    \n",
    "    'trk_sce_start_x',\n",
    "    'trk_sce_start_y',\n",
    "    'trk_sce_start_z',\n",
    "\n",
    "    'trk_end_x',\n",
    "    'trk_end_y',\n",
    "    'trk_end_z',\n",
    "    \n",
    "    'trk_sce_end_x',\n",
    "    'trk_sce_end_y',\n",
    "    'trk_sce_end_z',\n",
    "    \n",
    "    'trk_theta',\n",
    "    'trk_phi',\n",
    "\n",
    "    'trk_dir_x',\n",
    "    'trk_dir_y',\n",
    "    'trk_dir_z',\n",
    "\n",
    "    'trk_len',\n",
    "    \n",
    "#     'dqdx_u',\n",
    "#     'dqdx_v',\n",
    "#     'dqdx_y',\n",
    "\n",
    "    'dedx_u',\n",
    "    'dedx_v',\n",
    "    'dedx_y',\n",
    "\n",
    "    'rr_u',\n",
    "    'rr_v',\n",
    "    'rr_y',\n",
    "\n",
    "    'pitch_u',\n",
    "    'pitch_v',\n",
    "    'pitch_y',\n",
    "    \n",
    "    'x_u',\n",
    "    'x_v',\n",
    "    'x_y',\n",
    "    \n",
    "    'y_u',\n",
    "    'y_v',\n",
    "    'y_y',\n",
    "    \n",
    "    'z_u',\n",
    "    'z_v',\n",
    "    'z_y',\n",
    "    \n",
    "    'dir_x_u',\n",
    "    'dir_x_v',\n",
    "    'dir_x_y',\n",
    "    \n",
    "    'dir_y_u',\n",
    "    'dir_y_v',\n",
    "    'dir_y_y',\n",
    "    \n",
    "    'dir_z_u',\n",
    "    'dir_z_v',\n",
    "    'dir_z_y',\n",
    "]"
   ]
  },
  {
   "cell_type": "code",
   "execution_count": 5,
   "metadata": {},
   "outputs": [],
   "source": [
    "# Declaring files, folder and tree\n",
    "\n",
    "directory = '~/Desktop/MicroBooNE/calorimetry_likelihood/v05/'\n",
    "\n",
    "folder = \"nuselection\"\n",
    "tree = \"CalorimetryAnalyzer\"\n",
    "\n",
    "split_factor = 0.8\n",
    "split_factor2 = 1.\n",
    "\n",
    "file_lists = {}\n",
    "arrays_train = {}\n",
    "arrays_test = {}\n",
    "\n",
    "file_lists['nue'] = directory + 'bnb_nue_shr/out.root'\n",
    "file_lists['ccpi0'] = directory + 'bnb_ccpi0_shr/out.root'\n",
    "file_lists['ncpi0'] = directory + 'bnb_ncpi0_shr/out.root'"
   ]
  },
  {
   "cell_type": "code",
   "execution_count": 6,
   "metadata": {},
   "outputs": [],
   "source": [
    "#Loading arrays\n",
    "for name, file_path in file_lists.items():\n",
    "    root_file = uproot.open(file_path)[folder][tree]\n",
    "    entry_split = int(len(root_file) * split_factor)\n",
    "    entry_split2 = int(len(root_file) * split_factor2)\n",
    "    arrays_train[name] = root_file.arrays(branches, namedecode=\"utf-8\", entrystop=entry_split)\n",
    "    arrays_test[name] = root_file.arrays(branches, namedecode=\"utf-8\", entrystart=entry_split, entrystop=entry_split2)"
   ]
  },
  {
   "cell_type": "code",
   "execution_count": 7,
   "metadata": {},
   "outputs": [],
   "source": [
    "# Merging nue, nu, and ncpi0\n",
    "array_train = {}\n",
    "array_test = {}\n",
    "for variable in branches:\n",
    "    array_train[variable] = awkward.concatenate([array[variable] for array in arrays_train.values()])    \n",
    "    array_test[variable] = awkward.concatenate([array[variable] for array in arrays_test.values()])"
   ]
  },
  {
   "cell_type": "code",
   "execution_count": 8,
   "metadata": {},
   "outputs": [
    {
     "name": "stderr",
     "output_type": "stream",
     "text": [
      "/home/nic/Dropbox/MicroBooNE/bnb_nue_analysis/lib/general_functions.py:92: RuntimeWarning: overflow encountered in square\n",
      "  (point1_y - point2_y)**2 +\n",
      "/home/nic/Dropbox/MicroBooNE/bnb_nue_analysis/lib/general_functions.py:93: RuntimeWarning: overflow encountered in square\n",
      "  (point1_z - point2_z)**2 )\n",
      "/home/nic/.local/lib/python3.7/site-packages/awkward/array/jagged.py:1035: RuntimeWarning: overflow encountered in power\n",
      "  result = getattr(ufunc, method)(*inputs, **kwargs)\n",
      "/home/nic/.local/lib/python3.7/site-packages/awkward/array/jagged.py:1035: RuntimeWarning: invalid value encountered in arccos\n",
      "  result = getattr(ufunc, method)(*inputs, **kwargs)\n"
     ]
    }
   ],
   "source": [
    "# initialising arrays\n",
    "for array in [array_train, array_test]:\n",
    "    initialisation_for_calorimetry_shower(array)"
   ]
  },
  {
   "cell_type": "code",
   "execution_count": 9,
   "metadata": {},
   "outputs": [],
   "source": [
    "def selection_for_train(array):\n",
    "    return (array['backtracked_purity'] > 0.9) &\\\n",
    "           (array['start_is_fiducial']) &\\\n",
    "           (array['distance_3d_start'] < 2) &\\\n",
    "           (array['distance_3d_start'] > 0) &\\\n",
    "           ((array['dedx_u'].count() + array['dedx_v'].count() + array['dedx_y'].count()) > 0 ) &\\\n",
    "           ((abs(array['backtracked_pdg']) == 11) | (abs(array['backtracked_pdg']) == 22))\n",
    "\n",
    "# def selection_for_test(array):\n",
    "#     return (array['backtracked_purity'] > 0.9) &\\\n",
    "#            (array['start_is_fiducial']) &\\\n",
    "#            (array['distance_3d_start'] < 2) &\\\n",
    "#            (array['distance_3d_start'] > 0) &\\\n",
    "#            ((array['dedx_u'].count() + array['dedx_v'].count() + array['dedx_y'].count()) > 0 )\n",
    "           \n",
    "\n",
    "def selection_for_test(array):\n",
    "    return (array['start_is_fiducial']) &\\\n",
    "           ((array['dedx_u'].count() + array['dedx_v'].count() + array['dedx_y'].count()) > 0 )\n",
    "\n",
    "def electron_for_test(array):\n",
    "    return selection_for_test(array) & (np.abs(array['backtracked_pdg'])==11)\n",
    "\n",
    "def photon_for_test(array):\n",
    "    return selection_for_test(array) & (np.abs(array['backtracked_pdg'])==22)\n",
    "\n",
    "def cosmic_for_test(array):\n",
    "    return selection_for_test(array) & (np.abs(array['backtracked_pdg'])==0)\n",
    "\n",
    "def selection_planes(array):\n",
    "    aux = []\n",
    "    for plane in ['_u', '_v', '_y']:\n",
    "        aux.append(array['far_hits'+plane])\n",
    "    return aux"
   ]
  },
  {
   "cell_type": "code",
   "execution_count": 10,
   "metadata": {},
   "outputs": [],
   "source": [
    "#declaring some masks\n",
    "selection_train = selection_for_train(array_train)\n",
    "selection_test = selection_for_test(array_test)\n",
    "\n",
    "selection_train_planes = selection_planes(array_train)\n",
    "selection_test_planes = selection_planes(array_test)\n",
    "\n",
    "electron_train = (abs(array_train['backtracked_pdg']) == 11)\n",
    "photon_train = (abs(array_train['backtracked_pdg']) == 22)\n",
    "\n",
    "electron_test = (abs(array_test['backtracked_pdg']) == 11)\n",
    "photon_test = (abs(array_test['backtracked_pdg']) == 22)"
   ]
  },
  {
   "cell_type": "code",
   "execution_count": 11,
   "metadata": {},
   "outputs": [],
   "source": [
    "# Easy start point resolution studies"
   ]
  },
  {
   "cell_type": "code",
   "execution_count": null,
   "metadata": {},
   "outputs": [],
   "source": [
    "def base_selection_for_res_start_study(array):\n",
    "    return (array['backtracked_purity'] > 0.9) &\\\n",
    "           (array['start_is_fiducial']) &\\\n",
    "           (array['backtracked_e'] > 1) &\\\n",
    "           ((abs(array['backtracked_pdg']) == 11) | (abs(array['backtracked_pdg']) == 22))\n",
    "\n",
    "base_sel = base_selection_for_res_start_study(array_train)\n",
    "plt.hist(array_train['distance_3d_start'][electron_train & base_sel], bins=30, range=[0, 150], alpha=0.5, density=True, label='electron')\n",
    "plt.hist(array_train['distance_3d_start'][photon_train & base_sel], bins=30, range=[0, 150], alpha=0.5, density=True, label='photon')\n",
    "plt.legend()\n",
    "plt.xlabel('3D start point resolution [cm]')\n",
    "plt.ylabel('probability density [1/cm]')\n",
    "plt.title('Electron and photon candidates in BNB\\nbacktracked to electrons and photons\\npurity>90%, start point in the fiducial volume\\nMicroBooNE preliminary', loc='left')\n",
    "plt.tight_layout()\n",
    "plt.savefig(save_folder_base + 'electron_photon_startpoint_res.png', dpi=250)\n",
    "plt.savefig(save_folder_base + 'electron_photon_startpoint_res.pdf')"
   ]
  },
  {
   "cell_type": "code",
   "execution_count": null,
   "metadata": {},
   "outputs": [],
   "source": [
    "def base_selection_for_res_start_study(array):\n",
    "    return (array['backtracked_purity'] > 0.9) &\\\n",
    "           (array['start_is_fiducial']) &\\\n",
    "           (array['backtracked_e'] > 1) &\\\n",
    "           ((abs(array['backtracked_pdg']) == 11) | (abs(array['backtracked_pdg']) == 22))\n",
    "\n",
    "base_sel = base_selection_for_res_start_study(array_train)\n",
    "plt.hist(array_train['distance_3d_start'][electron_train & base_sel], bins=50, range=[0, 10], alpha=0.5, density=True, label='electron')\n",
    "plt.hist(array_train['distance_3d_start'][photon_train & base_sel], bins=50, range=[0, 10], alpha=0.5, density=True, label='photon')\n",
    "plt.legend()\n",
    "plt.xlabel('3D start point resolution [cm]')\n",
    "plt.ylabel('probability density [1/cm]')\n",
    "plt.title('Electron and photon candidates in BNB\\nbacktracked to electrons and photons\\npurity>90%, start point in the fiducial volume\\nMicroBooNE preliminary', loc='left')\n",
    "plt.tight_layout()\n",
    "plt.savefig(save_folder_base + 'electron_photon_startpoint_res_zoom.png', dpi=250)\n",
    "plt.savefig(save_folder_base + 'electron_photon_startpoint_res_zoom.pdf')"
   ]
  },
  {
   "cell_type": "code",
   "execution_count": null,
   "metadata": {},
   "outputs": [],
   "source": [
    "plt.hist(array_train['backtracked_e'][electron_train & selection_train], bins=50, range=[0, 2], alpha=0.5, density=True, label='electron')\n",
    "plt.hist(array_train['backtracked_e'][photon_train & selection_train], bins=50, range=[0, 2], alpha=0.5, density=True, label='photon')\n",
    "plt.legend()\n",
    "plt.xlabel('True shower energy [GeV]')\n",
    "plt.ylabel('probability density [1/GeV]')\n",
    "plt.title('Electron and photon candidates in BNB\\nbacktracked to electrons and photons\\npurity>90%, start point in the fiducial volume\\nstart point accuracy < 2 cm\\nMicroBooNE preliminary', loc='left')\n",
    "plt.tight_layout()\n",
    "plt.savefig(save_folder_base + 'electron_photon_shower_energy.png', dpi=250)\n",
    "plt.savefig(save_folder_base + 'electron_photon_shower_energy.pdf')"
   ]
  },
  {
   "cell_type": "code",
   "execution_count": null,
   "metadata": {},
   "outputs": [],
   "source": [
    "dedx_y = array_train['dedx_y'][photon_train & selection_train]\n",
    "dist = array_train['dist_from_start_y'][photon_train & selection_train]\n",
    "\n",
    "plt.hist2d(dist.flatten(), dedx_y.flatten(), range=[[0, 20], [0, 6]], bins=[51, 51])\n",
    "plt.xlabel(\"Distance from the reco start point [cm]\")\n",
    "plt.ylabel(\"dE/dx [MeV/cm]\")\n",
    "plt.title('Photon candidates in BNB\\nbacktracked to photons\\npurity>90%, start point in the fiducial volume\\nstart point accuracy < 2 cm\\nMicroBooNE preliminary', loc='left')\n",
    "plt.tight_layout()\n",
    "plt.savefig(save_folder_base + 'photon_2d_dedx_dist.png', dpi=250)\n",
    "plt.savefig(save_folder_base + 'photon_2d_dedx_dist.pdf')"
   ]
  },
  {
   "cell_type": "code",
   "execution_count": null,
   "metadata": {},
   "outputs": [],
   "source": [
    "sh_energy_bins = [0, 0.1, 0.2, 1]\n",
    "for sh_en_low, sh_en_high in zip(sh_energy_bins[:-1], sh_energy_bins[1:]):\n",
    "    sh_en_mask = (array_train['backtracked_e'] > sh_en_low) & (array_train['backtracked_e'] <= sh_en_high)\n",
    "    dedx_y = array_train['dedx_y'][photon_train & selection_train & sh_en_mask]\n",
    "    dist = array_train['dist_from_start_y'][photon_train & selection_train & sh_en_mask]\n",
    "    \n",
    "    plt.hist2d(dist.flatten(), dedx_y.flatten(), range=[[0, 20], [0, 6]], bins=[51, 51])\n",
    "    plt.xlabel(\"Distance from the reco start point [cm]\")\n",
    "    plt.ylabel(\"dE/dx [MeV/cm]\")\n",
    "    plt.title('Photon candidates in BNB\\nbacktracked to photons with {:.2g} < E-true < {:.2g} GeV\\npurity>90%, start point in the fiducial volume\\nstart point accuracy < 2 cm\\nMicroBooNE preliminary'\n",
    "              .format(sh_en_low, sh_en_high), loc='left')\n",
    "    plt.tight_layout()\n",
    "    plt.savefig(save_folder_base + 'photon_2d_dedx_dist_sh_energy_{:.2f}_{:.2f}'.format(sh_en_low, sh_en_high).replace('.', '')+'.png', dpi=250)    \n",
    "    plt.savefig(save_folder_base + 'photon_2d_dedx_dist_sh_energy_{:.2f}_{:.2f}'.format(sh_en_low, sh_en_high).replace('.', '')+'.pdf')"
   ]
  },
  {
   "cell_type": "code",
   "execution_count": null,
   "metadata": {},
   "outputs": [],
   "source": [
    "sh_energy_bins = [0, 0.1, 0.2, 1]\n",
    "for sh_en_low, sh_en_high in zip(sh_energy_bins[:-1], sh_energy_bins[1:]):\n",
    "    sh_en_mask = (array_train['backtracked_e'] > sh_en_low) & (array_train['backtracked_e'] <= sh_en_high)\n",
    "    dist_mask = array_train['dist_from_start_y'] < 4\n",
    "    dedx_y = array_train['dedx_y'][photon_train & selection_train & dist_mask & sh_en_mask]\n",
    "    \n",
    "    plt.hist(dedx_y.flatten(), \n",
    "             range=[0, 6], \n",
    "             bins=51, \n",
    "             density=True,\n",
    "             histtype='step',\n",
    "             label='{:.2g} < E-true < {:.2g} GeV'.format(sh_en_low, sh_en_high))\n",
    "    \n",
    "plt.ylabel(\"probability density [1/(MeV/cm)]\")\n",
    "plt.xlabel(\"hit dE/dx in the first 4 cm [MeV/cm]\")\n",
    "plt.legend()\n",
    "plt.ylim(0, 1)\n",
    "plt.title('Photon candidates in BNB\\nbacktracked to photons with \\npurity>90%, start point in the fiducial volume\\nstart point accuracy < 2 cm\\nMicroBooNE preliminary', loc='left')\n",
    "plt.tight_layout()\n",
    "plt.savefig(save_folder_base + 'photon_1d_dedx_sh_energy.png', dpi=250)\n",
    "plt.savefig(save_folder_base + 'photon_1d_dedx_sh_energy.pdf')"
   ]
  },
  {
   "cell_type": "code",
   "execution_count": 19,
   "metadata": {},
   "outputs": [],
   "source": [
    "total_mask = photon_train & selection_train\n",
    "\n",
    "for i_pl, plane in enumerate(['_u', '_v', '_y']):\n",
    "    dedx = array_train['dedx_median_4'+plane][total_mask]\n",
    "    sh_en = array_train['backtracked_e'][total_mask]\n",
    "\n",
    "    plt.hist2d(sh_en.flatten(), dedx.flatten(), range=[[0, 0.5], [0, 6]], bins=[51, 51])\n",
    "    plt.xlabel(\"True shower energy [GeV]\")\n",
    "    plt.ylabel(\"Median dE/dx in the first 4 cm [MeV/cm]\")\n",
    "    plt.title('Photon candidates in BNB, backtracked to photons\\npurity>90%, start point in the fiducial volume\\nstart point accuracy < 2 cm\\nPlane {}\\nMicroBooNE preliminary'.format(i_pl),\n",
    "              loc='left')\n",
    "    plt.tight_layout()\n",
    "    plt.savefig(save_folder_base + 'plane{}_photon_2d_median_dedx_sh_energy.png'.format(i_pl), dpi=250)    \n",
    "    plt.savefig(save_folder_base + 'plane{}_photon_2d_median_dedx_sh_energy.pdf'.format(i_pl))\n",
    "    plt.close()"
   ]
  },
  {
   "cell_type": "code",
   "execution_count": 20,
   "metadata": {},
   "outputs": [],
   "source": [
    "base_mask = photon_train & selection_train\n",
    "\n",
    "for i_pl, plane in enumerate(['_u', '_v', '_y']):\n",
    "    dist_mask = array_train['dist_from_start'+plane] < 4\n",
    "    total_mask = base_mask & dist_mask\n",
    "    dedx = array_train['dedx'+plane][total_mask]\n",
    "    sh_en_expanded = array_train['backtracked_e'] * (array_train['dedx'+plane] == array_train['dedx'+plane])\n",
    "#     import pdb; pdb.set_trace();\n",
    "    sh_en = sh_en_expanded[total_mask]\n",
    "\n",
    "    plt.hist2d(sh_en.flatten(), dedx.flatten(), range=[[0, 0.5], [0, 6]], bins=[51, 51])\n",
    "    plt.xlabel(\"True shower energy [GeV]\")\n",
    "    plt.ylabel(\"Hit dE/dx in the first 4 cm [MeV/cm]\")\n",
    "    plt.title('Photon candidates in BNB, backtracked to photons\\npurity>90%, start point in the fiducial volume\\nstart point accuracy < 2 cm\\nPlane {}\\nMicroBooNE preliminary'.format(i_pl),\n",
    "              loc='left')\n",
    "    plt.tight_layout()\n",
    "    plt.savefig(save_folder_base + 'plane{}_photon_2d_dedx_sh_energy.png'.format(i_pl), dpi=250)    \n",
    "    plt.savefig(save_folder_base + 'plane{}_photon_2d_dedx_sh_energy.pdf'.format(i_pl))\n",
    "    plt.close()"
   ]
  },
  {
   "cell_type": "code",
   "execution_count": null,
   "metadata": {},
   "outputs": [],
   "source": [
    "dedx_y = array_train['dedx_y'][electron_train & selection_train]\n",
    "dist = array_train['dist_from_start_y'][electron_train & selection_train]\n",
    "\n",
    "plt.hist2d(dist.flatten(), dedx_y.flatten(), range=[[0, 20], [0, 6]], bins=[51, 51])\n",
    "plt.xlabel(\"Distance from the reco start point [cm]\")\n",
    "plt.ylabel(\"dE/dx [MeV/cm]\")\n",
    "plt.title('Electron candidates in BNB\\nbacktracked to photons\\npurity>90%, start point in the fiducial volume\\nstart point accuracy < 2 cm\\nMicroBooNE preliminary', loc='left')\n",
    "plt.tight_layout()\n",
    "plt.savefig(save_folder_base + 'electron_2d_dedx_dist.png', dpi=250)\n",
    "plt.savefig(save_folder_base + 'electron_2d_dedx_dist.pdf')"
   ]
  },
  {
   "cell_type": "markdown",
   "metadata": {},
   "source": [
    "## Lookup Tables"
   ]
  },
  {
   "cell_type": "code",
   "execution_count": null,
   "metadata": {},
   "outputs": [],
   "source": [
    "# two parameters\n",
    "parameters_names = ['dist_from_start', 'pitch']\n",
    "parameters_bin_edges = [[0., 1, 2, 3, 4, 5, 10, 100],\n",
    "                  [0.3, 0.6, 1., 1.5, 3, 3000]]\n",
    "\n",
    "dedx_var = 'dedx'\n",
    "dedx_bins = [0.        , 0.31578947, 0.63157895, 0.94736842, 1.26315789,\n",
    "       1.57894737, 1.89473684, 2.21052632, 2.52631579, 2.84210526,\n",
    "       3.15789474, 3.47368421, 3.78947368, 4.10526316, 4.42105263,\n",
    "       4.73684211, 5.05263158, 5.36842105, 5.68421053, 6. , 6.5, 7, 7.5, 8, 9, 10, 12, 15, 20, 30, 50]\n",
    "\n",
    "parameters = []\n",
    "dedx_vars = []\n",
    "for plane in ['u', 'v', 'y']:\n",
    "    parameters.append([parameter_name+'_'+plane for parameter_name in parameters_names])\n",
    "    dedx_vars.append(dedx_var+'_'+plane)\n",
    "\n",
    "pdgcode_var = 'backtracked_pdg'"
   ]
  },
  {
   "cell_type": "code",
   "execution_count": null,
   "metadata": {},
   "outputs": [],
   "source": [
    "# declaring caloLikelihood objects\n",
    "caloLike_train = caloLikelihood(array_train, quality_mask=selection_train, quality_masks_planes=selection_train_planes)\n",
    "caloLike_test = caloLikelihood(array_test, quality_mask=selection_test, quality_masks_planes=selection_test_planes)\n",
    "\n",
    "caloLike_train.setPdgCodeVar(pdgcode_var)\n",
    "caloLike_test.setPdgCodeVar(pdgcode_var)"
   ]
  },
  {
   "cell_type": "code",
   "execution_count": null,
   "metadata": {},
   "outputs": [],
   "source": [
    "for i in [0, 1, 2]:\n",
    "    caloLike_train.setVariablesBinning(i, parameters[i], parameters_bin_edges, dedx_vars[i], dedx_bins)\n",
    "    caloLike_train.buildLookUpTableMC(i, 11)    \n",
    "    caloLike_train.buildLookUpTableMC(i, 22)    \n",
    "    caloLike_train.buildLookUpLogLikelihoodRatio(i, [11, 22])\n",
    "    caloLike_test.setVariablesBinning(i, parameters[i], parameters_bin_edges, dedx_vars[i], dedx_bins)"
   ]
  },
  {
   "cell_type": "code",
   "execution_count": null,
   "metadata": {},
   "outputs": [],
   "source": [
    "caloLike_train.addCalorimetryVariables(caloLike_test.array, pdg_codes=[11, 22])\n",
    "caloLike_train.addCalorimetryVariablesFromLLRTable(caloLike_test.array)"
   ]
  },
  {
   "cell_type": "code",
   "execution_count": null,
   "metadata": {},
   "outputs": [],
   "source": [
    "caloLike_train.printCplusplusLookUp(filename='/home/nic/Dropbox/MicroBooNE/bnb_nue_analysis/calorimetry_likelihood/larsoft_dev/LLRPID_electron_photon_lookup_new.h', \n",
    "                                    name='ELECTRON_PHOTON', struct_name='ElectronPhotonLookUpParameters',\n",
    "                                    planes=[0, 1, 2])"
   ]
  },
  {
   "cell_type": "markdown",
   "metadata": {},
   "source": [
    "## Plot of the pdfs/likelihoods in bins of residual range and pitch"
   ]
  },
  {
   "cell_type": "markdown",
   "metadata": {},
   "source": [
    "### Plot PDFs from lookup tables"
   ]
  },
  {
   "cell_type": "code",
   "execution_count": null,
   "metadata": {},
   "outputs": [],
   "source": [
    "# Plot PDF 2parameters\n",
    "for plane_num in [0, 1, 2]:\n",
    "    bin_centers = product(*caloLike_train.parameters_bin_centers[plane_num])\n",
    "    for bin_center in bin_centers:\n",
    "        caloLike_train.plotLookUpDedxMC(plane_num=plane_num, \n",
    "                                  pdg_code=11, \n",
    "                                  parameters_value=bin_center, \n",
    "                                  label='electron',\n",
    "                                  axis_label='dedx')\n",
    "        caloLike_train.plotLookUpDedxMCfancy(plane_num=plane_num, \n",
    "                                  pdg_code=22, \n",
    "                                  parameters_value=bin_center, \n",
    "                                  label='photon',\n",
    "                                  axis_label='dedx')\n",
    "        plt.xlim(0, 10)\n",
    "        plt.ylim(bottom=0)\n",
    "        plt.tight_layout()\n",
    "        plt.savefig(save_folder_pdfs+'plane{}/dist_{:.2f}_pitch_{:.2f}'.format(plane_num, bin_center[0], bin_center[1]).replace('.', '')+'.png', dpi=250)\n",
    "        plt.savefig(save_folder_pdfs+'plane{}/dist_{:.2f}_pitch_{:.2f}'.format(plane_num, bin_center[0], bin_center[1]).replace('.', '')+'.pdf')\n",
    "        plt.close()"
   ]
  },
  {
   "cell_type": "markdown",
   "metadata": {},
   "source": [
    "## Plots"
   ]
  },
  {
   "cell_type": "code",
   "execution_count": null,
   "metadata": {},
   "outputs": [],
   "source": [
    "sel = selection_test & (electron_test | photon_test)\n",
    "(array_test['dedx_median_4_y'][sel]<0).sum()/len(array_test['dedx_median_4_y'][sel])"
   ]
  },
  {
   "cell_type": "code",
   "execution_count": null,
   "metadata": {},
   "outputs": [],
   "source": [
    "interesting_variables = [\n",
    "                         'dedx_median_4_u',\n",
    "                         'dedx_median_4_v',\n",
    "                         'dedx_median_4_y',\n",
    "                         'llr_sum_0',\n",
    "                         'llr_sum_1',\n",
    "                         'llr_sum_2',\n",
    "                         'llr_01',\n",
    "                         'llr_012',\n",
    "                        ]\n",
    "\n",
    "variable_labels = {\n",
    "    'dedx_median_4_u': 'dE/dx U median-4cm',\n",
    "    'dedx_median_4_v': 'dE/dx V median-4cm',\n",
    "    'dedx_median_4_y': 'dE/dx Y median-4cm',\n",
    "    'llr_sum_0': 'LLR U',\n",
    "    'llr_sum_1': 'LLR V',\n",
    "    'llr_sum_2': 'LLR Y',\n",
    "    'llr_01': 'LLR UV',   \n",
    "    'llr_012': 'LLR UVY',   \n",
    "}\n",
    "\n",
    "for variable in interesting_variables:\n",
    "    if 'llr' in variable:\n",
    "        scale = 10\n",
    "    elif 'bragg' in variable:\n",
    "        scale = 1\n",
    "    else:\n",
    "        scale = 10\n",
    "    add_norm_variable(caloLike_test.array, variable, scale)"
   ]
  },
  {
   "cell_type": "code",
   "execution_count": null,
   "metadata": {},
   "outputs": [],
   "source": [
    "bins = 101\n",
    "hist_range = [-1, 1]\n",
    "kwargs = {'histtype':'step'}\n",
    "for var in interesting_variables:\n",
    "    variable = var + '_n'\n",
    "    caloLike_test.plotVariableMC(variable, bins, hist_range, function_mask=electron_for_test, quality_mask=True, label='electron', **kwargs);\n",
    "    caloLike_test.plotVariableMCFancy(variable, bins, hist_range, function_mask=photon_for_test, quality_mask=True, label='photon', **kwargs);\n",
    "    plt.xlabel(variable_labels[var])\n",
    "    plt.tight_layout()\n",
    "    plt.savefig(save_folder_performance + variable + '.png', dpi=250)\n",
    "    plt.savefig(save_folder_performance + variable + '.pdf')\n",
    "    plt.close()"
   ]
  },
  {
   "cell_type": "code",
   "execution_count": null,
   "metadata": {},
   "outputs": [],
   "source": [
    "def electron_selection_function(array, parameter, bin_range):\n",
    "    return (array[parameter] >= bin_range[0]) &\\\n",
    "           (array[parameter] < bin_range[1]) &\\\n",
    "            electron_for_test(array)\n",
    "\n",
    "def photon_selection_function(array, parameter, bin_range):\n",
    "    return (array[parameter] >= bin_range[0]) &\\\n",
    "           (array[parameter] < bin_range[1]) &\\\n",
    "            photon_for_test(array)\n",
    "\n",
    "pdg_codes = [11, 22]\n",
    "interesting_variables = [\n",
    "#                          'dedx_median_4_u',\n",
    "#                          'dedx_median_4_v',\n",
    "                         'dedx_median_4_y',\n",
    "#                          'llr_sum_0',\n",
    "#                          'llr_sum_1',\n",
    "                         'llr_sum_2',\n",
    "                         'llr_01',\n",
    "                         'llr_012',\n",
    "                        ]\n",
    "parameter_name = 'backtracked_e'\n",
    "parameter_bin_edges = np.array([0.0, 0.1, 0.2, 1, 2])\n",
    "\n",
    "bins = 101\n",
    "hist_range = [-1, 1]\n",
    "kwargs = {'histtype':'step'}\n",
    "for sh_en_bin in zip(parameter_bin_edges[:-1], parameter_bin_edges[1:]):\n",
    "    for var in interesting_variables:\n",
    "        def this_electron_function(array):\n",
    "            return electron_selection_function(array, parameter_name, sh_en_bin)\n",
    "        def this_photon_function(array):\n",
    "            return photon_selection_function(array, parameter_name, sh_en_bin)\n",
    "        \n",
    "        variable = var + '_n'\n",
    "        caloLike_test.plotVariableMC(variable, bins, hist_range, function_mask=this_electron_function, quality_mask=True, label='electron', **kwargs);\n",
    "        caloLike_test.plotVariableMCFancy(variable, bins, hist_range, function_mask=this_photon_function, quality_mask=True, label='photon', \n",
    "                                          add_to_title='\\n{:.2g} < E-true < {:.2g} GeV'.format(sh_en_bin[0], sh_en_bin[1]), **kwargs);\n",
    "        plt.xlabel(variable_labels[var])\n",
    "        plt.tight_layout()\n",
    "        plt.savefig(save_folder_performance + variable + '_sh_energy_{:.2f}_{:.2f}'.format(sh_en_bin[0], sh_en_bin[1]).replace('.', '')+'.png', dpi=250)\n",
    "        plt.savefig(save_folder_performance + variable + '_sh_energy_{:.2f}_{:.2f}'.format(sh_en_bin[0], sh_en_bin[1]).replace('.', '')+'.pdf')\n",
    "        plt.close()"
   ]
  },
  {
   "cell_type": "markdown",
   "metadata": {},
   "source": [
    "## ROC curves"
   ]
  },
  {
   "cell_type": "code",
   "execution_count": null,
   "metadata": {},
   "outputs": [],
   "source": [
    "interesting_variables = [\n",
    "#                          'dedx_median_4_u',\n",
    "#                          'dedx_median_4_v',\n",
    "                         'dedx_median_4_y',\n",
    "#                          'llr_sum_0',\n",
    "#                          'llr_sum_1',\n",
    "                         'llr_sum_2',\n",
    "                         'llr_01',\n",
    "                         'llr_012',\n",
    "                        ]\n",
    "\n",
    "for variable in interesting_variables:\n",
    "    caloLike_test.rocCurve(variable=variable+'_n', \n",
    "         pdg_codes=[11, 22], \n",
    "         plot=True,\n",
    "         variable_label=variable_labels[variable])\n",
    "\n",
    "plt.title('Electron/photon separation\\nSimulated tracks', loc='left')\n",
    "plt.savefig(save_folder_performance + 'roc_curves.png', dpi=250)\n",
    "plt.savefig(save_folder_performance + 'roc_curves.pdf')"
   ]
  },
  {
   "cell_type": "code",
   "execution_count": null,
   "metadata": {},
   "outputs": [],
   "source": [
    "def selection_function(array, parameter, bin_range):\n",
    "    return (array[parameter] >= bin_range[0]) &\\\n",
    "           (array[parameter] < bin_range[1])\n",
    "\n",
    "pdg_codes = [11, 22]\n",
    "interesting_variables = [\n",
    "#                          'dedx_median_4_u',\n",
    "#                          'dedx_median_4_v',\n",
    "                         'dedx_median_4_y',\n",
    "#                          'llr_sum_0',\n",
    "#                          'llr_sum_1',\n",
    "                         'llr_sum_2',\n",
    "                         'llr_01',\n",
    "                         'llr_012',\n",
    "                        ]\n",
    "parameter_name = 'backtracked_e'\n",
    "parameter_bin_edges = np.array([0, 0.1, 0.2, 0.5, 1, 1.5, 2])\n",
    "\n",
    "for variable in interesting_variables:\n",
    "    out = caloLike_test.auc1D(variable+'_n', \n",
    "                        pdg_codes, \n",
    "                        selection_function, \n",
    "                        parameter_name, \n",
    "                        parameter_bin_edges,\n",
    "                        legend_label=variable_labels[variable])\n",
    "plt.ylim(0.5, 1)\n",
    "plt.xlabel(r'True shower energy [GeV]')\n",
    "plt.legend()\n",
    "plt.title('Electron/photon separation\\nSimulated tracks', loc='left')\n",
    "plt.tight_layout()\n",
    "plt.savefig(save_folder_performance+'auc1d_'+parameter_name+'.png', dpi=250)\n",
    "plt.savefig(save_folder_performance+'auc1d_'+parameter_name+'.pdf')"
   ]
  },
  {
   "cell_type": "code",
   "execution_count": null,
   "metadata": {},
   "outputs": [],
   "source": []
  }
 ],
 "metadata": {
  "kernelspec": {
   "display_name": "Python 3",
   "language": "python",
   "name": "python3"
  },
  "language_info": {
   "codemirror_mode": {
    "name": "ipython",
    "version": 3
   },
   "file_extension": ".py",
   "mimetype": "text/x-python",
   "name": "python",
   "nbconvert_exporter": "python",
   "pygments_lexer": "ipython3",
   "version": "3.7.6"
  }
 },
 "nbformat": 4,
 "nbformat_minor": 2
}
