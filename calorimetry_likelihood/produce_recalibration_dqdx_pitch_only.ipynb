{
 "cells": [
  {
   "cell_type": "markdown",
   "metadata": {},
   "source": [
    "# Derive recalibration for dQ/dx with ACPT pitch only"
   ]
  },
  {
   "cell_type": "code",
   "execution_count": 1,
   "metadata": {},
   "outputs": [],
   "source": [
    "%load_ext autoreload\n",
    "%autoreload 2\n",
    "\n",
    "import math\n",
    "from itertools import product\n",
    "from copy import deepcopy\n",
    "import uproot\n",
    "import awkward\n",
    "import numpy as np\n",
    "import matplotlib.pyplot as plt\n",
    "from matplotlib.colors import LogNorm\n",
    "from scipy.stats import binned_statistic\n",
    "import seaborn as sns\n",
    "\n",
    "import matplotlib\n",
    "from matplotlib.colors import LogNorm\n",
    "\n",
    "matplotlib.rcParams.update({'font.size': 12})\n",
    "\n",
    "from calo_likelihood import caloLikelihood\n",
    "from general_functions import *\n",
    "from loaders import *\n",
    "from plotter import plotter\n",
    "from initializers import initialisation_for_caloriemtry_acpt"
   ]
  },
  {
   "cell_type": "code",
   "execution_count": 2,
   "metadata": {},
   "outputs": [],
   "source": [
    "import matplotlib\n",
    "matplotlib.rcParams.update({'font.size': 12})"
   ]
  },
  {
   "cell_type": "code",
   "execution_count": 3,
   "metadata": {},
   "outputs": [],
   "source": [
    "today = 'calorimetry_trial2'"
   ]
  },
  {
   "cell_type": "code",
   "execution_count": 4,
   "metadata": {},
   "outputs": [],
   "source": [
    "!mkdir -p ~/Dropbox/MicroBooNE/_fig/$today/acpt_pitch_only\n",
    "!mkdir -p ~/Dropbox/MicroBooNE/_fig/$today/acpt_pitch_only/calibration/plane0/\n",
    "!mkdir -p ~/Dropbox/MicroBooNE/_fig/$today/acpt_pitch_only/calibration/plane1/\n",
    "!mkdir -p ~/Dropbox/MicroBooNE/_fig/$today/acpt_pitch_only/calibration/plane2/\n",
    "!mkdir -p ~/Dropbox/MicroBooNE/_fig/$today/acpt_pitch_only/data_mc_cali/plane0/\n",
    "!mkdir -p ~/Dropbox/MicroBooNE/_fig/$today/acpt_pitch_only/data_mc_cali/plane1/\n",
    "!mkdir -p ~/Dropbox/MicroBooNE/_fig/$today/acpt_pitch_only/data_mc_cali/plane2/\n",
    "!mkdir -p ~/Dropbox/MicroBooNE/_fig/$today/acpt_pitch_only/data_mc/plane0/\n",
    "!mkdir -p ~/Dropbox/MicroBooNE/_fig/$today/acpt_pitch_only/data_mc/plane1/\n",
    "!mkdir -p ~/Dropbox/MicroBooNE/_fig/$today/acpt_pitch_only/data_mc/plane2/"
   ]
  },
  {
   "cell_type": "code",
   "execution_count": 5,
   "metadata": {},
   "outputs": [],
   "source": [
    "save_folder = '/home/nic/Dropbox/MicroBooNE/_fig/' + today + '/acpt_pitch_only/'\n",
    "save_folder_calibration = save_folder+'calibration/'\n",
    "save_folder_data_mc = save_folder+'data_mc/'\n",
    "save_folder_data_mc_cali = save_folder+'data_mc_cali/'"
   ]
  },
  {
   "cell_type": "code",
   "execution_count": 6,
   "metadata": {},
   "outputs": [],
   "source": [
    "branches = [\n",
    "    'run',\n",
    "    'sub',\n",
    "    'evt',\n",
    "    \n",
    "#     'generation',\n",
    "    'backtracked_pdg',\n",
    "#     'backtracked_e',\n",
    "    'backtracked_purity',\n",
    "    'backtracked_completeness',\n",
    "    'backtracked_overlay_purity',\n",
    "#     'backtracked_start_x',\n",
    "#     'backtracked_start_y',\n",
    "#     'backtracked_start_z',\n",
    "#     'backtracked_start_t',\n",
    "#     'backtracked_sce_start_x',\n",
    "#     'backtracked_sce_start_y',\n",
    "#     'backtracked_sce_start_z',\n",
    "    \n",
    "#     'nplanehits_U',\n",
    "#     'nplanehits_V',\n",
    "#     'nplanehits_Y',\n",
    "#     'trk_score',\n",
    "\n",
    "#     'trk_start_x',\n",
    "#     'trk_start_y',\n",
    "#     'trk_start_z',\n",
    "    \n",
    "#     'trk_sce_start_x',\n",
    "#     'trk_sce_start_y',\n",
    "#     'trk_sce_start_z',\n",
    "\n",
    "#     'trk_end_x',\n",
    "#     'trk_end_y',\n",
    "#     'trk_end_z',\n",
    "    \n",
    "#     'trk_sce_end_x',\n",
    "#     'trk_sce_end_y',\n",
    "#     'trk_sce_end_z',\n",
    "    \n",
    "    'trk_theta',\n",
    "    'trk_phi',\n",
    "\n",
    "    'trk_dir_x',\n",
    "    'trk_dir_y',\n",
    "    'trk_dir_z',\n",
    "\n",
    "    'trk_len',\n",
    "    \n",
    "    'dqdx_u',\n",
    "    'dqdx_v',\n",
    "    'dqdx_y',\n",
    "\n",
    "#     'dedx_u',\n",
    "#     'dedx_v',\n",
    "#     'dedx_y',\n",
    "\n",
    "    'rr_u',\n",
    "    'rr_v',\n",
    "    'rr_y',\n",
    "\n",
    "    'pitch_u',\n",
    "    'pitch_v',\n",
    "    'pitch_y',\n",
    "    \n",
    "#     'x_u',\n",
    "#     'x_v',\n",
    "#     'x_y',\n",
    "    \n",
    "#     'y_u',\n",
    "#     'y_v',\n",
    "#     'y_y',\n",
    "    \n",
    "#     'z_u',\n",
    "#     'z_v',\n",
    "#     'z_y',\n",
    "    \n",
    "    'dir_x_u',\n",
    "    'dir_x_v',\n",
    "    'dir_x_y',\n",
    "    \n",
    "    'dir_y_u',\n",
    "    'dir_y_v',\n",
    "    'dir_y_y',\n",
    "    \n",
    "    'dir_z_u',\n",
    "    'dir_z_v',\n",
    "    'dir_z_y',\n",
    "]"
   ]
  },
  {
   "cell_type": "code",
   "execution_count": 7,
   "metadata": {},
   "outputs": [
    {
     "name": "stdout",
     "output_type": "stream",
     "text": [
      "array mc train done\n",
      "array data train done\n"
     ]
    }
   ],
   "source": [
    "file_folder = '~/Desktop/MicroBooNE/calorimetry_likelihood/v06/'\n",
    "\n",
    "filenames = {\n",
    "    'mc': file_folder + 'overlay_acpt/out.root',\n",
    "    'data': file_folder + 'beam_off_acpt/out.root',\n",
    "}\n",
    "\n",
    "split_factors = {\n",
    "    'mc': [1., 0.],\n",
    "    'data': [1., 0.],\n",
    "}\n",
    "\n",
    "folder = \"nuselection\"\n",
    "tree = \"CalorimetryAnalyzer\"\n",
    "\n",
    "root_file_mc = uproot.open(filenames['mc'])[folder][tree]\n",
    "entry_split_mc = int(len(root_file_mc) * split_factors['mc'][0])\n",
    "array_mc_train = root_file_mc.arrays(branches, namedecode=\"utf-8\", entrystop=entry_split_mc)\n",
    "print(\"array mc train done\")\n",
    "\n",
    "root_file_data = uproot.open(filenames['data'])[folder][tree]\n",
    "entry_split_data = int(len(root_file_data) * split_factors['data'][0])\n",
    "array_data_train = root_file_data.arrays(branches, namedecode=\"utf-8\", entrystop=entry_split_data)\n",
    "print(\"array data train done\")"
   ]
  },
  {
   "cell_type": "code",
   "execution_count": 8,
   "metadata": {},
   "outputs": [
    {
     "name": "stdout",
     "output_type": "stream",
     "text": [
      "0\n"
     ]
    },
    {
     "name": "stderr",
     "output_type": "stream",
     "text": [
      "/home/nic/.local/lib/python3.7/site-packages/awkward/array/jagged.py:1035: RuntimeWarning: overflow encountered in power\n",
      "  result = getattr(ufunc, method)(*inputs, **kwargs)\n",
      "/home/nic/.local/lib/python3.7/site-packages/awkward/array/jagged.py:1035: RuntimeWarning: invalid value encountered in arccos\n",
      "  result = getattr(ufunc, method)(*inputs, **kwargs)\n",
      "/home/nic/.local/lib/python3.7/site-packages/awkward/array/jagged.py:1035: RuntimeWarning: divide by zero encountered in true_divide\n",
      "  result = getattr(ufunc, method)(*inputs, **kwargs)\n"
     ]
    },
    {
     "name": "stdout",
     "output_type": "stream",
     "text": [
      "1\n"
     ]
    }
   ],
   "source": [
    "for i, array in enumerate([array_mc_train, array_data_train]):\n",
    "    print(i)\n",
    "    initialisation_for_caloriemtry_acpt(array)"
   ]
  },
  {
   "cell_type": "code",
   "execution_count": 9,
   "metadata": {},
   "outputs": [],
   "source": [
    "def selection_base(array):\n",
    "    mask = (array['trk_len'] > 20) & (array['trk_dir_y']<=0)\n",
    "    return mask\n",
    "\n",
    "def selection_mask_old(array):\n",
    "    mask = selection_base(array)\n",
    "    for plane in ['_u', '_v', '_y']:\n",
    "        for direction in ['_x', '_y', '_z']:\n",
    "            mask = mask & (  (np.isnan(array['dir'+direction+plane]) == False).all() )\n",
    "    mask = mask\n",
    "    return mask\n",
    "\n",
    "def selection_mask(array):\n",
    "    mask = selection_base(array)\n",
    "    for plane in ['_u', '_v', '_y']:\n",
    "        unit_v = np.sqrt(array['dir_z'+plane]**2 + array['dir_x'+plane]**2 + array['dir_y'+plane]**2)\n",
    "        mask = mask &\\\n",
    "              (unit_v > 0.9999).all() &\\\n",
    "              (unit_v < 1.0001).all()\n",
    "    return mask\n",
    "\n",
    "def selection_efficiency(array):\n",
    "    base_mask = selection_base(array)\n",
    "    array_len = len(base_mask)\n",
    "    print(\"base selection eff = {:.3f}\".format(base_mask.sum()/array_len))\n",
    "    \n",
    "    sel_mask = selection_mask(array)\n",
    "    print(\"complete selection eff = {:.3f}\".format(sel_mask.sum()/array_len))\n",
    "    print(sel_mask.sum(), array_len)\n",
    "    \n",
    "def selection_planes(array):\n",
    "    aux = []\n",
    "    for plane in ['_u', '_v', '_y']:\n",
    "        aux.append(array['first_last_hit_mask'+plane])\n",
    "    return aux"
   ]
  },
  {
   "cell_type": "code",
   "execution_count": 10,
   "metadata": {},
   "outputs": [
    {
     "name": "stdout",
     "output_type": "stream",
     "text": [
      "base selection eff = 0.970\n"
     ]
    },
    {
     "name": "stderr",
     "output_type": "stream",
     "text": [
      "/home/nic/.local/lib/python3.7/site-packages/awkward/array/jagged.py:1035: RuntimeWarning: invalid value encountered in greater\n",
      "  result = getattr(ufunc, method)(*inputs, **kwargs)\n",
      "/home/nic/.local/lib/python3.7/site-packages/awkward/array/jagged.py:1035: RuntimeWarning: invalid value encountered in less\n",
      "  result = getattr(ufunc, method)(*inputs, **kwargs)\n"
     ]
    },
    {
     "name": "stdout",
     "output_type": "stream",
     "text": [
      "complete selection eff = 0.968\n",
      "133204 137557\n"
     ]
    }
   ],
   "source": [
    "selection_efficiency(array_mc_train)"
   ]
  },
  {
   "cell_type": "code",
   "execution_count": 11,
   "metadata": {},
   "outputs": [
    {
     "name": "stdout",
     "output_type": "stream",
     "text": [
      "base selection eff = 0.973\n",
      "complete selection eff = 0.972\n",
      "62511 64337\n"
     ]
    }
   ],
   "source": [
    "selection_efficiency(array_data_train)"
   ]
  },
  {
   "cell_type": "code",
   "execution_count": 12,
   "metadata": {},
   "outputs": [],
   "source": [
    "muon_train = (abs(array_mc_train['backtracked_pdg']) == 13) & selection_mask(array_mc_train)\n",
    "data_train = selection_mask(array_data_train)\n",
    "mc_train_planes = selection_planes(array_mc_train)\n",
    "data_train_planes = selection_planes(array_data_train)"
   ]
  },
  {
   "cell_type": "code",
   "execution_count": 13,
   "metadata": {},
   "outputs": [],
   "source": [
    "parameters = ['pitch']\n",
    "parameters_legend_names = ['pitch']\n",
    "parameters_bin_edges = [[0.3, 0.4, 0.5, 0.7, 1., 1.5, 3, 30]]\n",
    "dedx_vars = 'dqdx'\n",
    "dedx_bins = np.linspace(0, 800, 100)\n",
    "pdgcode_var = 'backtracked_pdg'"
   ]
  },
  {
   "cell_type": "code",
   "execution_count": 14,
   "metadata": {},
   "outputs": [],
   "source": [
    "caloLike_calibration = caloLikelihood(array_mc_train, quality_mask=muon_train, quality_masks_planes=mc_train_planes)\n",
    "caloLike_calibration.loadData(array_data_train, overall_data_mask=data_train, overall_data_masks_planes=data_train_planes)\n",
    "caloLike_calibration.setPdgCodeVar(pdgcode_var)"
   ]
  },
  {
   "cell_type": "code",
   "execution_count": 15,
   "metadata": {},
   "outputs": [
    {
     "name": "stdout",
     "output_type": "stream",
     "text": [
      "0\n",
      "1\n",
      "2\n"
     ]
    }
   ],
   "source": [
    "for i_pl, name_plane in zip([0, 1, 2], ['_u', '_v', '_y']):\n",
    "    print(i_pl)\n",
    "    this_parameters = [par+name_plane for par in parameters]\n",
    "    caloLike_calibration.setVariablesBinning(i_pl, this_parameters, parameters_bin_edges, dedx_vars+name_plane, dedx_bins, parameters_legend_names)\n",
    "    caloLike_calibration.buildLookUpTableMC(i_pl, 13)\n",
    "    caloLike_calibration.buildLookUpTableData(i_pl, 'default')"
   ]
  },
  {
   "cell_type": "code",
   "execution_count": 16,
   "metadata": {},
   "outputs": [
    {
     "data": {
      "image/png": "[encoded data removed]",
      "text/plain": [
       "<Figure size 576x360 with 2 Axes>"
      ]
     },
     "metadata": {
      "needs_background": "light"
     },
     "output_type": "display_data"
    }
   ],
   "source": [
    "caloLike_calibration.plotLookUpDedxDataMC(plane_num=0,\n",
    "                        pdg_code=13, \n",
    "                        data_selection='default',\n",
    "                        parameters_value=[0.35],\n",
    "                        add_to_title='Calibration sample',\n",
    "                        axis_label='dqdx')\n",
    "plt.xlim(0, 500)\n",
    "plt.tight_layout()\n",
    "plt.savefig(save_folder+'plane_0_pitch_035.png', dpi=250)"
   ]
  },
  {
   "cell_type": "code",
   "execution_count": 17,
   "metadata": {},
   "outputs": [
    {
     "data": {
      "image/png": "[encoded data removed]",
      "text/plain": [
       "<Figure size 576x360 with 2 Axes>"
      ]
     },
     "metadata": {
      "needs_background": "light"
     },
     "output_type": "display_data"
    }
   ],
   "source": [
    "caloLike_calibration.plotLookUpDedxDataMC(plane_num=0,\n",
    "                        pdg_code=13, \n",
    "                        data_selection='default',\n",
    "                        parameters_value=[1.6],\n",
    "                        add_to_title='Calibration sample',\n",
    "                        axis_label='dqdx')\n",
    "plt.xlim(0, 500)\n",
    "plt.tight_layout()\n",
    "plt.savefig(save_folder+'plane_0_pitch_16.png', dpi=250)"
   ]
  },
  {
   "cell_type": "markdown",
   "metadata": {},
   "source": [
    "## Calibration only mu"
   ]
  },
  {
   "cell_type": "code",
   "execution_count": 18,
   "metadata": {},
   "outputs": [],
   "source": [
    "def scale_calibration(mu, dedx):\n",
    "    return dedx * mu[0]"
   ]
  },
  {
   "cell_type": "code",
   "execution_count": 19,
   "metadata": {},
   "outputs": [],
   "source": [
    "caloLike_calibration.setCalibrationFunction(calibration_function=scale_calibration, \n",
    "                                n_calibration_parameters=1)"
   ]
  },
  {
   "cell_type": "code",
   "execution_count": 20,
   "metadata": {},
   "outputs": [
    {
     "name": "stderr",
     "output_type": "stream",
     "text": [
      "/home/nic/.local/lib/python3.7/site-packages/scipy/optimize/_minimize.py:522: RuntimeWarning: Method Nelder-Mead cannot handle constraints nor bounds.\n",
      "  RuntimeWarning)\n"
     ]
    },
    {
     "data": {
      "image/png": "[encoded data removed]",
      "text/plain": [
       "<Figure size 432x288 with 1 Axes>"
      ]
     },
     "metadata": {
      "needs_background": "light"
     },
     "output_type": "display_data"
    }
   ],
   "source": [
    "#example\n",
    "caloLike_calibration.calibrationLikelihoodProfile(plane_num=0, \n",
    "                                                  parameters_value=[0.35], \n",
    "                                                  pdg_code=13, \n",
    "                                                  start_point=[1],\n",
    "                                                  data_selection='default', \n",
    "                                                  plot=True,\n",
    "                                                  mu_binnings=[[0.95, 1.05, 50]])\n",
    "plt.ticklabel_format(style='sci', axis='y', scilimits=(0,0))\n",
    "plt.tight_layout()\n",
    "# plt.savefig(save_folder+'plane_2_pitch_0.75.png', dpi=250)"
   ]
  },
  {
   "cell_type": "code",
   "execution_count": 21,
   "metadata": {},
   "outputs": [
    {
     "name": "stderr",
     "output_type": "stream",
     "text": [
      "/home/nic/.local/lib/python3.7/site-packages/scipy/optimize/_minimize.py:522: RuntimeWarning: Method Nelder-Mead cannot handle constraints nor bounds.\n",
      "  RuntimeWarning)\n",
      "/home/nic/.local/lib/python3.7/site-packages/scipy/optimize/_minimize.py:522: RuntimeWarning: Method Nelder-Mead cannot handle constraints nor bounds.\n",
      "  RuntimeWarning)\n",
      "/home/nic/.local/lib/python3.7/site-packages/scipy/optimize/_minimize.py:522: RuntimeWarning: Method Nelder-Mead cannot handle constraints nor bounds.\n",
      "  RuntimeWarning)\n",
      "/home/nic/.local/lib/python3.7/site-packages/scipy/optimize/_minimize.py:522: RuntimeWarning: Method Nelder-Mead cannot handle constraints nor bounds.\n",
      "  RuntimeWarning)\n",
      "/home/nic/.local/lib/python3.7/site-packages/scipy/optimize/_minimize.py:522: RuntimeWarning: Method Nelder-Mead cannot handle constraints nor bounds.\n",
      "  RuntimeWarning)\n",
      "/home/nic/.local/lib/python3.7/site-packages/scipy/optimize/_minimize.py:522: RuntimeWarning: Method Nelder-Mead cannot handle constraints nor bounds.\n",
      "  RuntimeWarning)\n",
      "/home/nic/Dropbox/MicroBooNE/bnb_nue_analysis/lib/calo_likelihood.py:495: RuntimeWarning: divide by zero encountered in log\n",
      "  total_expectations - dedx_data_binned*np.log(total_expectations),\n",
      "/home/nic/Dropbox/MicroBooNE/bnb_nue_analysis/lib/calo_likelihood.py:495: RuntimeWarning: invalid value encountered in multiply\n",
      "  total_expectations - dedx_data_binned*np.log(total_expectations),\n",
      "/home/nic/.local/lib/python3.7/site-packages/scipy/optimize/_minimize.py:522: RuntimeWarning: Method Nelder-Mead cannot handle constraints nor bounds.\n",
      "  RuntimeWarning)\n",
      "/home/nic/.local/lib/python3.7/site-packages/scipy/optimize/_minimize.py:522: RuntimeWarning: Method Nelder-Mead cannot handle constraints nor bounds.\n",
      "  RuntimeWarning)\n",
      "/home/nic/.local/lib/python3.7/site-packages/scipy/optimize/_minimize.py:522: RuntimeWarning: Method Nelder-Mead cannot handle constraints nor bounds.\n",
      "  RuntimeWarning)\n",
      "/home/nic/.local/lib/python3.7/site-packages/scipy/optimize/_minimize.py:522: RuntimeWarning: Method Nelder-Mead cannot handle constraints nor bounds.\n",
      "  RuntimeWarning)\n",
      "/home/nic/.local/lib/python3.7/site-packages/scipy/optimize/_minimize.py:522: RuntimeWarning: Method Nelder-Mead cannot handle constraints nor bounds.\n",
      "  RuntimeWarning)\n",
      "/home/nic/.local/lib/python3.7/site-packages/scipy/optimize/_minimize.py:522: RuntimeWarning: Method Nelder-Mead cannot handle constraints nor bounds.\n",
      "  RuntimeWarning)\n",
      "/home/nic/.local/lib/python3.7/site-packages/scipy/optimize/_minimize.py:522: RuntimeWarning: Method Nelder-Mead cannot handle constraints nor bounds.\n",
      "  RuntimeWarning)\n",
      "/home/nic/Dropbox/MicroBooNE/bnb_nue_analysis/lib/calo_likelihood.py:495: RuntimeWarning: divide by zero encountered in log\n",
      "  total_expectations - dedx_data_binned*np.log(total_expectations),\n",
      "/home/nic/Dropbox/MicroBooNE/bnb_nue_analysis/lib/calo_likelihood.py:495: RuntimeWarning: invalid value encountered in multiply\n",
      "  total_expectations - dedx_data_binned*np.log(total_expectations),\n",
      "/home/nic/.local/lib/python3.7/site-packages/scipy/optimize/_minimize.py:522: RuntimeWarning: Method Nelder-Mead cannot handle constraints nor bounds.\n",
      "  RuntimeWarning)\n",
      "/home/nic/.local/lib/python3.7/site-packages/scipy/optimize/_minimize.py:522: RuntimeWarning: Method Nelder-Mead cannot handle constraints nor bounds.\n",
      "  RuntimeWarning)\n",
      "/home/nic/.local/lib/python3.7/site-packages/scipy/optimize/_minimize.py:522: RuntimeWarning: Method Nelder-Mead cannot handle constraints nor bounds.\n",
      "  RuntimeWarning)\n",
      "/home/nic/.local/lib/python3.7/site-packages/scipy/optimize/_minimize.py:522: RuntimeWarning: Method Nelder-Mead cannot handle constraints nor bounds.\n",
      "  RuntimeWarning)\n",
      "/home/nic/.local/lib/python3.7/site-packages/scipy/optimize/_minimize.py:522: RuntimeWarning: Method Nelder-Mead cannot handle constraints nor bounds.\n",
      "  RuntimeWarning)\n",
      "/home/nic/.local/lib/python3.7/site-packages/scipy/optimize/_minimize.py:522: RuntimeWarning: Method Nelder-Mead cannot handle constraints nor bounds.\n",
      "  RuntimeWarning)\n",
      "/home/nic/.local/lib/python3.7/site-packages/scipy/optimize/_minimize.py:522: RuntimeWarning: Method Nelder-Mead cannot handle constraints nor bounds.\n",
      "  RuntimeWarning)\n",
      "/home/nic/Dropbox/MicroBooNE/bnb_nue_analysis/lib/calo_likelihood.py:495: RuntimeWarning: divide by zero encountered in log\n",
      "  total_expectations - dedx_data_binned*np.log(total_expectations),\n",
      "/home/nic/Dropbox/MicroBooNE/bnb_nue_analysis/lib/calo_likelihood.py:495: RuntimeWarning: invalid value encountered in multiply\n",
      "  total_expectations - dedx_data_binned*np.log(total_expectations),\n"
     ]
    }
   ],
   "source": [
    "mu_scan_binning = [[0.9, 1.15, 50]]\n",
    "for plane in [0, 1, 2]:\n",
    "    caloLike_calibration.buildCalibrationTable(mu_scan_binning=mu_scan_binning, \n",
    "                          plane_num=plane, \n",
    "                          pdg_code=13, \n",
    "                          start_point=[1],\n",
    "                          data_selection='default', \n",
    "                          plot_folder=save_folder_calibration+'plane{}/'.format(plane))"
   ]
  },
  {
   "cell_type": "code",
   "execution_count": 22,
   "metadata": {},
   "outputs": [
    {
     "data": {
      "image/png": "[encoded data removed]",
      "text/plain": [
       "<Figure size 432x288 with 1 Axes>"
      ]
     },
     "metadata": {
      "needs_background": "light"
     },
     "output_type": "display_data"
    }
   ],
   "source": [
    "caloLike_calibration.plotCalibration1d()\n",
    "plt.xlim(0.2, 3)\n",
    "plt.savefig(save_folder_calibration+'calibration_table1d.png', dpi=200)"
   ]
  },
  {
   "cell_type": "code",
   "execution_count": 23,
   "metadata": {},
   "outputs": [],
   "source": [
    "#print table\n",
    "# caloLike_calibration.printCplusplusCorrection(filename='/home/nic/Dropbox/MicroBooNE/bnb_nue_analysis/calorimetry_likelihood/larsoft_dev/LLRPID_correction_lookup.h', planes=[0, 1, 2])"
   ]
  },
  {
   "cell_type": "code",
   "execution_count": 24,
   "metadata": {},
   "outputs": [],
   "source": [
    "# dump calibration object\n",
    "caloLike_calibration.save(filename='/home/nic/Dropbox/MicroBooNE/bnb_nue_analysis/calorimetry_likelihood/dumped_objects/calibration_pitch_only.dat')"
   ]
  },
  {
   "cell_type": "markdown",
   "metadata": {},
   "source": [
    "## Plot pdf before and after - train set"
   ]
  },
  {
   "cell_type": "code",
   "execution_count": 25,
   "metadata": {},
   "outputs": [],
   "source": [
    "load_calibration = False"
   ]
  },
  {
   "cell_type": "code",
   "execution_count": 26,
   "metadata": {},
   "outputs": [],
   "source": [
    "caloLike_calibration2 = caloLikelihood(array_mc_train, quality_mask=muon_train, quality_masks_planes=mc_train_planes)\n",
    "caloLike_calibration2.setCalibrationFunction(calibration_function=scale_calibration, \n",
    "                                n_calibration_parameters=1)\n",
    "if load_calibration:\n",
    "    filename = '/home/nic/Dropbox/MicroBooNE/bnb_nue_analysis/calorimetry_likelihood/dumped_objects/calibration_pitch_only.dat'\n",
    "    caloLikelihood_load = caloLikelihood(None)\n",
    "    caloLikelihood_load.load(filename)\n",
    "    caloLike_calibration2.calibration_table = caloLikelihood_load.calibration_table\n",
    "elif ~load_calibration:\n",
    "    caloLike_calibration2.calibration_table = caloLike_calibration.calibration_table\n",
    "else:\n",
    "    print(\"you need to set load calibration\")"
   ]
  },
  {
   "cell_type": "code",
   "execution_count": 27,
   "metadata": {},
   "outputs": [
    {
     "name": "stdout",
     "output_type": "stream",
     "text": [
      "0\n",
      "1\n",
      "2\n"
     ]
    }
   ],
   "source": [
    "caloLike_calibration2.setPdgCodeVar(pdgcode_var)\n",
    "    \n",
    "for i_pl, name_plane in zip([0, 1, 2], ['_u', '_v', '_y']):\n",
    "    print(i_pl)\n",
    "    this_parameters = [par+name_plane for par in parameters]\n",
    "    caloLike_calibration2.setVariablesBinning(i_pl, this_parameters, parameters_bin_edges, dedx_vars+name_plane, dedx_bins, parameters_legend_names)\n",
    "    caloLike_calibration2.buildLookUpTableMC(i_pl, 13, cali=True)"
   ]
  },
  {
   "cell_type": "code",
   "execution_count": 28,
   "metadata": {},
   "outputs": [
    {
     "name": "stderr",
     "output_type": "stream",
     "text": [
      "/home/nic/.local/lib/python3.7/site-packages/ipykernel_launcher.py:48: RuntimeWarning: divide by zero encountered in true_divide\n",
      "/home/nic/.local/lib/python3.7/site-packages/ipykernel_launcher.py:48: RuntimeWarning: invalid value encountered in true_divide\n",
      "/home/nic/.local/lib/python3.7/site-packages/ipykernel_launcher.py:48: RuntimeWarning: divide by zero encountered in true_divide\n",
      "/home/nic/.local/lib/python3.7/site-packages/ipykernel_launcher.py:48: RuntimeWarning: invalid value encountered in true_divide\n",
      "/home/nic/.local/lib/python3.7/site-packages/ipykernel_launcher.py:50: RuntimeWarning: divide by zero encountered in true_divide\n",
      "/home/nic/.local/lib/python3.7/site-packages/ipykernel_launcher.py:50: RuntimeWarning: invalid value encountered in true_divide\n",
      "/home/nic/.local/lib/python3.7/site-packages/ipykernel_launcher.py:48: RuntimeWarning: divide by zero encountered in true_divide\n",
      "/home/nic/.local/lib/python3.7/site-packages/ipykernel_launcher.py:48: RuntimeWarning: invalid value encountered in true_divide\n",
      "/home/nic/.local/lib/python3.7/site-packages/ipykernel_launcher.py:48: RuntimeWarning: divide by zero encountered in true_divide\n",
      "/home/nic/.local/lib/python3.7/site-packages/ipykernel_launcher.py:48: RuntimeWarning: invalid value encountered in true_divide\n",
      "/home/nic/.local/lib/python3.7/site-packages/ipykernel_launcher.py:50: RuntimeWarning: divide by zero encountered in true_divide\n",
      "/home/nic/.local/lib/python3.7/site-packages/ipykernel_launcher.py:50: RuntimeWarning: invalid value encountered in true_divide\n",
      "/home/nic/.local/lib/python3.7/site-packages/ipykernel_launcher.py:50: RuntimeWarning: divide by zero encountered in true_divide\n",
      "/home/nic/.local/lib/python3.7/site-packages/ipykernel_launcher.py:50: RuntimeWarning: divide by zero encountered in true_divide\n",
      "/home/nic/.local/lib/python3.7/site-packages/ipykernel_launcher.py:50: RuntimeWarning: divide by zero encountered in true_divide\n",
      "/home/nic/.local/lib/python3.7/site-packages/ipykernel_launcher.py:50: RuntimeWarning: divide by zero encountered in true_divide\n",
      "/home/nic/.local/lib/python3.7/site-packages/ipykernel_launcher.py:48: RuntimeWarning: divide by zero encountered in true_divide\n",
      "/home/nic/.local/lib/python3.7/site-packages/ipykernel_launcher.py:48: RuntimeWarning: invalid value encountered in true_divide\n",
      "/home/nic/.local/lib/python3.7/site-packages/ipykernel_launcher.py:48: RuntimeWarning: divide by zero encountered in true_divide\n",
      "/home/nic/.local/lib/python3.7/site-packages/ipykernel_launcher.py:48: RuntimeWarning: invalid value encountered in true_divide\n",
      "/home/nic/.local/lib/python3.7/site-packages/ipykernel_launcher.py:50: RuntimeWarning: invalid value encountered in true_divide\n"
     ]
    }
   ],
   "source": [
    "for plane_num in [0, 1, 2]:\n",
    "    bin_centers = product(*caloLike_calibration.parameters_bin_centers[plane_num])\n",
    "    for bin_center in bin_centers:\n",
    "        calibration_index = caloLike_calibration.findLookUpRow(plane_num, bin_center)\n",
    "        for plot in ['data_mc', 'data_mc_cali']:\n",
    "            fig, ax = plt.subplots(ncols=1,\n",
    "                                           nrows=2,\n",
    "                                           figsize=(6.5, 5),\n",
    "                                           sharex='col',\n",
    "                                           gridspec_kw={'height_ratios': [3, 1]})\n",
    "\n",
    "            plt.sca(ax[0])\n",
    "        \n",
    "            if plot == 'data_mc':\n",
    "                bin_contents_mc = caloLike_calibration.plotLookUpDedxMCfancy(plane_num=plane_num,\n",
    "                                pdg_code=13, \n",
    "                                parameters_value=bin_center,\n",
    "                                title_left='Cosmic ray candidates\\n', \n",
    "                                label='mc', \n",
    "                                axis_label='dqdx')\n",
    "                \n",
    "            elif plot == 'data_mc_cali':\n",
    "                bin_contents_mc = caloLike_calibration.plotLookUpDedxMC(plane_num=plane_num,\n",
    "                                        pdg_code=13, \n",
    "                                        parameters_value=bin_center, \n",
    "                                        label='mc', \n",
    "                                        axis_label='dqdx')\n",
    "                mu = caloLike_calibration.calibration_table[plane_num][calibration_index]\n",
    "                bin_contents_mc_cali = caloLike_calibration2.plotLookUpDedxMCfancy(plane_num=plane_num,\n",
    "                                        pdg_code=13, \n",
    "                                        parameters_value=bin_center,\n",
    "                                        title_left='Cosmic ray candidates\\n', \n",
    "                                        label='mc corrected\\n$\\mu$ = {:.3g}'.format(mu[0]), \n",
    "                                        axis_label='dqdx')\n",
    "\n",
    "            bin_contents_data = caloLike_calibration.plotLookUpDedxData(plane_num=plane_num,\n",
    "                                    data_selection='default', \n",
    "                                    parameters_value=bin_center, \n",
    "                                    axis_label='dqdx')\n",
    "\n",
    "            plt.title('Train set\\n\\nMicroBooNE in Progress', loc='right')\n",
    "            dedx_bins_centers = caloLike_calibration.dedx_bins_centers[plane_num]\n",
    "            dedx_bins_edges = caloLike_calibration.dedx_bin_edges[plane_num]\n",
    "            plt.legend()\n",
    "            plt.xlabel('')\n",
    "            plt.xlim(0, 500)\n",
    "            plt.sca(ax[1])\n",
    "            plt.plot(dedx_bins_centers, bin_contents_data/bin_contents_mc, '.', label='mc')\n",
    "            if plot == 'data_mc_cali':\n",
    "                plt.plot(dedx_bins_centers, bin_contents_data/bin_contents_mc_cali, '.', label=r'mc corrected')\n",
    "            plt.plot([dedx_bins_edges[0], dedx_bins_edges[-1]], [1, 1], '--k', alpha=0.3)\n",
    "            plt.ylim(0.5, 2)\n",
    "            plt.xlabel('dQ/dx [ADC/cm]')\n",
    "            plt.ylabel('Data/Simulation')\n",
    "            plt.tight_layout()\n",
    "            if plot == 'data_mc':\n",
    "                this_save_folder = save_folder_data_mc\n",
    "            elif plot == 'data_mc_cali':\n",
    "                this_save_folder = save_folder_data_mc_cali\n",
    "            plt.savefig(this_save_folder + 'plane{}/pitch_{:2.2f}'.format(plane_num, bin_center[0]).replace('.', '')+'.png', dpi=250)\n",
    "            plt.savefig(this_save_folder + 'plane{}/pitch_{:2.2f}'.format(plane_num, bin_center[0]).replace('.', '')+'.pdf')\n",
    "            plt.close()"
   ]
  },
  {
   "cell_type": "code",
   "execution_count": null,
   "metadata": {},
   "outputs": [],
   "source": []
  }
 ],
 "metadata": {
  "kernelspec": {
   "display_name": "Python 3",
   "language": "python",
   "name": "python3"
  },
  "language_info": {
   "codemirror_mode": {
    "name": "ipython",
    "version": 3
   },
   "file_extension": ".py",
   "mimetype": "text/x-python",
   "name": "python",
   "nbconvert_exporter": "python",
   "pygments_lexer": "ipython3",
   "version": "3.7.6"
  }
 },
 "nbformat": 4,
 "nbformat_minor": 2
}
